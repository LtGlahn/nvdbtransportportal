{
 "cells": [
  {
   "cell_type": "code",
   "execution_count": 1,
   "metadata": {},
   "outputs": [],
   "source": [
    "import requests\n",
    "import pandas as pd\n",
    "import json\n",
    "import warnings"
   ]
  },
  {
   "cell_type": "markdown",
   "metadata": {},
   "source": [
    "Henter datakatalog-definisjon"
   ]
  },
  {
   "cell_type": "code",
   "execution_count": 2,
   "metadata": {},
   "outputs": [],
   "source": [
    "r = requests.get( 'https://www.vegvesen.no/nvdb/api/v2/vegobjekttyper', headers={'Accept' : 'application/json'},\n",
    "                params={'inkluder' : 'egenskapstyper'})\n",
    "dakat = r.json()\n",
    "dakat2 = {}\n",
    "for dd in dakat: \n",
    "    dakat2[dd['navn']] = dd "
   ]
  },
  {
   "cell_type": "markdown",
   "metadata": {},
   "source": [
    "Leser regneark"
   ]
  },
  {
   "cell_type": "code",
   "execution_count": 41,
   "metadata": {},
   "outputs": [
    {
     "data": {
      "text/plain": [
       "NVDB datatyper ( relatert til ITS direktivet)    object\n",
       "Mobilitetstilbud                                 object\n",
       " Veg og vegregulering                            object\n",
       "Trafikkinformasjon                               object\n",
       "Description                                      object\n",
       "Kommentar                                        object\n",
       "dtype: object"
      ]
     },
     "execution_count": 41,
     "metadata": {},
     "output_type": "execute_result"
    }
   ],
   "source": [
    "df = pd.read_excel( 'NVDB mapping av datatyper til ITS direktivet-V3.xlsx')\n",
    "df.fillna(' ', inplace=True)\n",
    "df.dtypes\n"
   ]
  },
  {
   "cell_type": "markdown",
   "metadata": {},
   "source": [
    "## husk å justere antall kolonner, kolonnenavn "
   ]
  },
  {
   "cell_type": "code",
   "execution_count": 7,
   "metadata": {},
   "outputs": [],
   "source": [
    "excelnavn = df.columns[0]\n",
    "mobil = df.columns[1]\n",
    "vegregulering = df.columns[2]\n",
    "trafikkinfo  = df.columns[3]\n",
    "desc = df.columns[4]"
   ]
  },
  {
   "cell_type": "markdown",
   "metadata": {},
   "source": [
    "# Funksjonsdefinisjon\n",
    "\n",
    "Vi leser innholdet av los1.md, los2.md og los3.md, tar vare på all tekst oppforbi tabellen og lager ny tabell ut fra regnearket vi nettopp leste innf. Bokstaven \"x\" i riktig kolonne angir hvilke kategorier en objekttype inngår i. \n",
    "\n",
    "Vi kobler NVDB-navnet på objekttypen mot datakatalog-definisjonen, og lenker til denne. Dette steget tjener også som en kvalitetssjekk på at NVDB-navnet er riktig. "
   ]
  },
  {
   "cell_type": "code",
   "execution_count": 45,
   "metadata": {},
   "outputs": [],
   "source": [
    "# Funksjonsdefinisjon\n",
    "def lesfil( filename, skilletegn='Feature type |  Description'): \n",
    "    \"\"\"\n",
    "    Leser fil inntil vi treffer på forekomst av teksten skilletegn\n",
    "    \"\"\"\n",
    "    \n",
    "    allelinjer = ''\n",
    "    \n",
    "    with open( filename) as f:\n",
    "        eilinje  = f.readline()\n",
    "        while eilinje and skilletegn not in eilinje: \n",
    "            allelinjer += eilinje\n",
    "            eilinje = f.readline()\n",
    "            \n",
    "    return allelinjer\n",
    "\n",
    "def prettyprint( df, df_name_column, filename, dakat): \n",
    "    \"\"\"\n",
    "    Matcher regneark-navn i kolonne mot datakatalog-definisjon og skriver ut en \n",
    "    pen markdown-tabell\n",
    "    \"\"\"\n",
    "    with open( filename, 'w', encoding='utf-8') as f:\n",
    "        f.write( '| Feature type |  Description | Selected properties |Description  |\\n')\n",
    "        f.write( '|---|---|---|---|\\n')\n",
    "        for index, row in df.iterrows(): \n",
    "            print( row[df_name_column])\n",
    "            if row[df_name_column] in dakat:\n",
    "                mindef = dakat[row[df_name_column]]\n",
    "                f.write( '| [' + str( mindef['id']  ) + ' ' + mindef['navn'] + \n",
    "                    '](https://datakatalogen.vegdata.no/' + str(mindef['id']) + ') | | |  |\\n' )\n",
    "                for eg in mindef['egenskapstyper']:\n",
    "                    f.write( '| | | ' + str(eg['id']) + ' ' + eg['navn'] + ' | |\\n ')\n",
    "                \n",
    "            else: \n",
    "                f.write( '| | | | |\\n')\n",
    "                f.write( '|**' + row[df_name_column] + '**| **FANT IKKE I DATAKATALOGEN** | | |\\n' )\n",
    "                f.write( '| | | | |\\n')\n",
    "                warnings.warn( 'Fant ikke i datakatalogen' +  row[df_name_column] )\n",
    "          \n",
    "        \n",
    "def simpleprint( df, df_name_column, filename, dakat): \n",
    "    \"\"\"\n",
    "    Som prettyprint, men uten egenskapnavn \n",
    "    \"\"\"\n",
    "    \n",
    "    # leser inn øverste del av fila (inntil tabellen begynner)\n",
    "    start = lesfil( filename)\n",
    "    \n",
    "    with open( filename, 'w', encoding='utf-8') as f:\n",
    "        f.write(start )\n",
    "        f.write( '| Feature type |  Description | \\n')\n",
    "        f.write( '|---|---|\\n')\n",
    "        for index, row in df.iterrows(): \n",
    "            print( row[df_name_column])\n",
    "            if row[df_name_column].strip() in dakat:\n",
    "                mindef = dakat[row[df_name_column].strip()]\n",
    "                f.write( '| [' + str( mindef['id']  ) + ' ' + mindef['navn'] + \n",
    "                    '](https://datakatalogen.vegdata.no/' + str(mindef['id']) + ') | '+\n",
    "                    row['Description']  + ' |\\n' )\n",
    "\n",
    "            else: \n",
    "                f.write( '| | |\\n')\n",
    "                f.write( '|**' + row[df_name_column] + '**| **FANT IKKE I DATAKATALOGEN** |\\n' )\n",
    "                f.write( '| | |\\n')\n",
    "                warnings.warn( row[df_name_column] + ' Fant ikke i datakatalogen' )\n"
   ]
  },
  {
   "cell_type": "markdown",
   "metadata": {},
   "source": [
    "# Skriver nye tabeller \n",
    "\n",
    "Her skriver vi nye tabeller for de tre LOS kategoriene.  "
   ]
  },
  {
   "cell_type": "code",
   "execution_count": 38,
   "metadata": {},
   "outputs": [
    {
     "name": "stdout",
     "output_type": "stream",
     "text": [
      "Døgnhvileplass\n",
      "Ferjeleie\n",
      "Fortau\n",
      "Gangadkomst\n",
      "Parkeringsområde\n",
      "Rasteplass\n",
      "Sykkelparkering\n",
      "Sykkeltilbud, riksvegrute\n",
      "Toalettanlegg\n",
      "Turistveg\n",
      "Undergang\n"
     ]
    }
   ],
   "source": [
    "simpleprint( df[ df[mobil] == 'x' ], excelnavn, '../los1.md', dakat2)"
   ]
  },
  {
   "cell_type": "code",
   "execution_count": 46,
   "metadata": {},
   "outputs": [
    {
     "name": "stdout",
     "output_type": "stream",
     "text": [
      "ATK-punkt\n",
      "Bomstasjon \n",
      "Fartsgrense\n",
      "Fartsgrense, variabel\n",
      "Fartstavle\n",
      "Forbikjøringsstrekning\n",
      "Forkjørsveg\n",
      "Fortau\n",
      "Gangadkomst\n",
      "Gangfelt\n",
      "Gågate\n",
      "Høydebegrensning\n",
      "Jernbanekryssing\n",
      "Kolonnestrekning\n",
      "Kontroll-/veieplass\n",
      "Omkjøringsrute\n",
      "Parkeringsområde\n",
      "Rasteplass\n",
      "Snuplass\n",
      "Streknings-ATK\n",
      "Trafikklomme\n",
      "Trafikkreguleringer\n",
      "Variabelt skilt\n",
      "Vegoppmerking, langsgående\n",
      "Vegoppmerking, tverrgående\n"
     ]
    }
   ],
   "source": [
    "simpleprint( df[ df[trafikkinfo] == 'x' ], excelnavn, '../los2.md', dakat2 )"
   ]
  },
  {
   "cell_type": "code",
   "execution_count": 40,
   "metadata": {},
   "outputs": [
    {
     "name": "stdout",
     "output_type": "stream",
     "text": [
      "ATK-punkt\n",
      "Bru\n",
      "Bruksklasse, modulvogntog\n",
      "Bruksklasse, normaltransport\n",
      "Bruksklasse, spesialtransport\n",
      "Bruksklasse, tømmertransport\n",
      "Fartsgrense\n",
      "Fartsgrense, variabel\n",
      "Fartstavle\n",
      "Faunapassasje\n",
      "Forbikjøringsstrekning\n",
      "Forkjørsveg\n",
      "Fortau\n",
      "Gangadkomst\n",
      "Gangfelt\n",
      "Gate\n",
      "Gågate\n",
      "Høydebegrensning\n",
      "Jernbanekryssing\n",
      "Kolonnestrekning\n",
      "Kontroll-/veieplass\n",
      "Kurvatur, horisontalelement\n",
      "Kurvatur, stigning\n",
      "Kurvatur, vertikalelement\n",
      "Motorveg\n",
      "Omkjøringsrute\n",
      "Rasteplass\n",
      "Snuplass\n",
      "Streknings-ATK\n",
      "Sykkelrute, hovednett by/tettsted\n",
      "Sykkelrute, tur/fritid\n",
      "TEN-T veg\n",
      "Trafikkberedskapsklasse\n",
      "Trafikklomme\n",
      "Trafikkreguleringer\n",
      "Tunnel\n",
      "Tunnelløp\n",
      "Turistveg\n",
      "Undergang\n",
      "Variabelt skilt\n",
      "Vegbredde\n",
      "Vegbredde, beregnet\n",
      "Vegkryss\n",
      "Vegoppmerking, langsgående\n",
      "Vegoppmerking, tverrgående\n"
     ]
    }
   ],
   "source": [
    "simpleprint( df[ df[vegregulering] == 'x'  ], excelnavn, '../los3.md', dakat2 )"
   ]
  }
 ],
 "metadata": {
  "hide_input": false,
  "kernelspec": {
   "display_name": "Python 3",
   "language": "python",
   "name": "python3"
  },
  "language_info": {
   "codemirror_mode": {
    "name": "ipython",
    "version": 3
   },
   "file_extension": ".py",
   "mimetype": "text/x-python",
   "name": "python",
   "nbconvert_exporter": "python",
   "pygments_lexer": "ipython3",
   "version": "3.7.3"
  }
 },
 "nbformat": 4,
 "nbformat_minor": 2
}
