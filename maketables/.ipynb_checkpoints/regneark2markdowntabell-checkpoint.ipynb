{
 "cells": [
  {
   "cell_type": "code",
   "execution_count": 1,
   "metadata": {},
   "outputs": [],
   "source": [
    "import requests\n",
    "import pandas as pd\n",
    "import json\n",
    "import warnings"
   ]
  },
  {
   "cell_type": "markdown",
   "metadata": {},
   "source": [
    "Henter datakatalog-definisjon"
   ]
  },
  {
   "cell_type": "code",
   "execution_count": 2,
   "metadata": {},
   "outputs": [],
   "source": [
    "r = requests.get( 'https://www.vegvesen.no/nvdb/api/v2/vegobjekttyper', headers={'Accept' : 'application/json'},\n",
    "                params={'inkluder' : 'egenskapstyper'})\n",
    "dakat = r.json()\n",
    "dakat2 = {}\n",
    "for dd in dakat: \n",
    "    dakat2[dd['navn']] = dd "
   ]
  },
  {
   "cell_type": "markdown",
   "metadata": {},
   "source": [
    "Leser regneark"
   ]
  },
  {
   "cell_type": "code",
   "execution_count": 3,
   "metadata": {},
   "outputs": [
    {
     "ename": "ImportError",
     "evalue": "Install xlrd >= 1.0.0 for Excel support",
     "output_type": "error",
     "traceback": [
      "\u001b[0;31m---------------------------------------------------------------------------\u001b[0m",
      "\u001b[0;31mModuleNotFoundError\u001b[0m                       Traceback (most recent call last)",
      "\u001b[0;32m~/anaconda3/envs/hvplot/lib/python3.7/site-packages/pandas/io/excel.py\u001b[0m in \u001b[0;36m__init__\u001b[0;34m(self, filepath_or_buffer)\u001b[0m\n\u001b[1;32m    390\u001b[0m         \u001b[0;32mtry\u001b[0m\u001b[0;34m:\u001b[0m\u001b[0;34m\u001b[0m\u001b[0;34m\u001b[0m\u001b[0m\n\u001b[0;32m--> 391\u001b[0;31m             \u001b[0;32mimport\u001b[0m \u001b[0mxlrd\u001b[0m\u001b[0;34m\u001b[0m\u001b[0;34m\u001b[0m\u001b[0m\n\u001b[0m\u001b[1;32m    392\u001b[0m         \u001b[0;32mexcept\u001b[0m \u001b[0mImportError\u001b[0m\u001b[0;34m:\u001b[0m\u001b[0;34m\u001b[0m\u001b[0;34m\u001b[0m\u001b[0m\n",
      "\u001b[0;31mModuleNotFoundError\u001b[0m: No module named 'xlrd'",
      "\nDuring handling of the above exception, another exception occurred:\n",
      "\u001b[0;31mImportError\u001b[0m                               Traceback (most recent call last)",
      "\u001b[0;32m<ipython-input-3-2d253e290df0>\u001b[0m in \u001b[0;36m<module>\u001b[0;34m\u001b[0m\n\u001b[0;32m----> 1\u001b[0;31m \u001b[0mdf\u001b[0m \u001b[0;34m=\u001b[0m \u001b[0mpd\u001b[0m\u001b[0;34m.\u001b[0m\u001b[0mread_excel\u001b[0m\u001b[0;34m(\u001b[0m \u001b[0;34m'NVDB mapping av datatyper til ITS direktivet-V3.xlsx'\u001b[0m\u001b[0;34m)\u001b[0m\u001b[0;34m\u001b[0m\u001b[0;34m\u001b[0m\u001b[0m\n\u001b[0m\u001b[1;32m      2\u001b[0m \u001b[0mdf\u001b[0m\u001b[0;34m.\u001b[0m\u001b[0mcolumns\u001b[0m\u001b[0;34m\u001b[0m\u001b[0;34m\u001b[0m\u001b[0m\n",
      "\u001b[0;32m~/anaconda3/envs/hvplot/lib/python3.7/site-packages/pandas/util/_decorators.py\u001b[0m in \u001b[0;36mwrapper\u001b[0;34m(*args, **kwargs)\u001b[0m\n\u001b[1;32m    186\u001b[0m                 \u001b[0;32melse\u001b[0m\u001b[0;34m:\u001b[0m\u001b[0;34m\u001b[0m\u001b[0;34m\u001b[0m\u001b[0m\n\u001b[1;32m    187\u001b[0m                     \u001b[0mkwargs\u001b[0m\u001b[0;34m[\u001b[0m\u001b[0mnew_arg_name\u001b[0m\u001b[0;34m]\u001b[0m \u001b[0;34m=\u001b[0m \u001b[0mnew_arg_value\u001b[0m\u001b[0;34m\u001b[0m\u001b[0;34m\u001b[0m\u001b[0m\n\u001b[0;32m--> 188\u001b[0;31m             \u001b[0;32mreturn\u001b[0m \u001b[0mfunc\u001b[0m\u001b[0;34m(\u001b[0m\u001b[0;34m*\u001b[0m\u001b[0margs\u001b[0m\u001b[0;34m,\u001b[0m \u001b[0;34m**\u001b[0m\u001b[0mkwargs\u001b[0m\u001b[0;34m)\u001b[0m\u001b[0;34m\u001b[0m\u001b[0;34m\u001b[0m\u001b[0m\n\u001b[0m\u001b[1;32m    189\u001b[0m         \u001b[0;32mreturn\u001b[0m \u001b[0mwrapper\u001b[0m\u001b[0;34m\u001b[0m\u001b[0;34m\u001b[0m\u001b[0m\n\u001b[1;32m    190\u001b[0m     \u001b[0;32mreturn\u001b[0m \u001b[0m_deprecate_kwarg\u001b[0m\u001b[0;34m\u001b[0m\u001b[0;34m\u001b[0m\u001b[0m\n",
      "\u001b[0;32m~/anaconda3/envs/hvplot/lib/python3.7/site-packages/pandas/util/_decorators.py\u001b[0m in \u001b[0;36mwrapper\u001b[0;34m(*args, **kwargs)\u001b[0m\n\u001b[1;32m    186\u001b[0m                 \u001b[0;32melse\u001b[0m\u001b[0;34m:\u001b[0m\u001b[0;34m\u001b[0m\u001b[0;34m\u001b[0m\u001b[0m\n\u001b[1;32m    187\u001b[0m                     \u001b[0mkwargs\u001b[0m\u001b[0;34m[\u001b[0m\u001b[0mnew_arg_name\u001b[0m\u001b[0;34m]\u001b[0m \u001b[0;34m=\u001b[0m \u001b[0mnew_arg_value\u001b[0m\u001b[0;34m\u001b[0m\u001b[0;34m\u001b[0m\u001b[0m\n\u001b[0;32m--> 188\u001b[0;31m             \u001b[0;32mreturn\u001b[0m \u001b[0mfunc\u001b[0m\u001b[0;34m(\u001b[0m\u001b[0;34m*\u001b[0m\u001b[0margs\u001b[0m\u001b[0;34m,\u001b[0m \u001b[0;34m**\u001b[0m\u001b[0mkwargs\u001b[0m\u001b[0;34m)\u001b[0m\u001b[0;34m\u001b[0m\u001b[0;34m\u001b[0m\u001b[0m\n\u001b[0m\u001b[1;32m    189\u001b[0m         \u001b[0;32mreturn\u001b[0m \u001b[0mwrapper\u001b[0m\u001b[0;34m\u001b[0m\u001b[0;34m\u001b[0m\u001b[0m\n\u001b[1;32m    190\u001b[0m     \u001b[0;32mreturn\u001b[0m \u001b[0m_deprecate_kwarg\u001b[0m\u001b[0;34m\u001b[0m\u001b[0;34m\u001b[0m\u001b[0m\n",
      "\u001b[0;32m~/anaconda3/envs/hvplot/lib/python3.7/site-packages/pandas/io/excel.py\u001b[0m in \u001b[0;36mread_excel\u001b[0;34m(io, sheet_name, header, names, index_col, parse_cols, usecols, squeeze, dtype, engine, converters, true_values, false_values, skiprows, nrows, na_values, keep_default_na, verbose, parse_dates, date_parser, thousands, comment, skip_footer, skipfooter, convert_float, mangle_dupe_cols, **kwds)\u001b[0m\n\u001b[1;32m    348\u001b[0m \u001b[0;34m\u001b[0m\u001b[0m\n\u001b[1;32m    349\u001b[0m     \u001b[0;32mif\u001b[0m \u001b[0;32mnot\u001b[0m \u001b[0misinstance\u001b[0m\u001b[0;34m(\u001b[0m\u001b[0mio\u001b[0m\u001b[0;34m,\u001b[0m \u001b[0mExcelFile\u001b[0m\u001b[0;34m)\u001b[0m\u001b[0;34m:\u001b[0m\u001b[0;34m\u001b[0m\u001b[0;34m\u001b[0m\u001b[0m\n\u001b[0;32m--> 350\u001b[0;31m         \u001b[0mio\u001b[0m \u001b[0;34m=\u001b[0m \u001b[0mExcelFile\u001b[0m\u001b[0;34m(\u001b[0m\u001b[0mio\u001b[0m\u001b[0;34m,\u001b[0m \u001b[0mengine\u001b[0m\u001b[0;34m=\u001b[0m\u001b[0mengine\u001b[0m\u001b[0;34m)\u001b[0m\u001b[0;34m\u001b[0m\u001b[0;34m\u001b[0m\u001b[0m\n\u001b[0m\u001b[1;32m    351\u001b[0m \u001b[0;34m\u001b[0m\u001b[0m\n\u001b[1;32m    352\u001b[0m     return io.parse(\n",
      "\u001b[0;32m~/anaconda3/envs/hvplot/lib/python3.7/site-packages/pandas/io/excel.py\u001b[0m in \u001b[0;36m__init__\u001b[0;34m(self, io, engine)\u001b[0m\n\u001b[1;32m    651\u001b[0m         \u001b[0mself\u001b[0m\u001b[0;34m.\u001b[0m\u001b[0m_io\u001b[0m \u001b[0;34m=\u001b[0m \u001b[0m_stringify_path\u001b[0m\u001b[0;34m(\u001b[0m\u001b[0mio\u001b[0m\u001b[0;34m)\u001b[0m\u001b[0;34m\u001b[0m\u001b[0;34m\u001b[0m\u001b[0m\n\u001b[1;32m    652\u001b[0m \u001b[0;34m\u001b[0m\u001b[0m\n\u001b[0;32m--> 653\u001b[0;31m         \u001b[0mself\u001b[0m\u001b[0;34m.\u001b[0m\u001b[0m_reader\u001b[0m \u001b[0;34m=\u001b[0m \u001b[0mself\u001b[0m\u001b[0;34m.\u001b[0m\u001b[0m_engines\u001b[0m\u001b[0;34m[\u001b[0m\u001b[0mengine\u001b[0m\u001b[0;34m]\u001b[0m\u001b[0;34m(\u001b[0m\u001b[0mself\u001b[0m\u001b[0;34m.\u001b[0m\u001b[0m_io\u001b[0m\u001b[0;34m)\u001b[0m\u001b[0;34m\u001b[0m\u001b[0;34m\u001b[0m\u001b[0m\n\u001b[0m\u001b[1;32m    654\u001b[0m \u001b[0;34m\u001b[0m\u001b[0m\n\u001b[1;32m    655\u001b[0m     \u001b[0;32mdef\u001b[0m \u001b[0m__fspath__\u001b[0m\u001b[0;34m(\u001b[0m\u001b[0mself\u001b[0m\u001b[0;34m)\u001b[0m\u001b[0;34m:\u001b[0m\u001b[0;34m\u001b[0m\u001b[0;34m\u001b[0m\u001b[0m\n",
      "\u001b[0;32m~/anaconda3/envs/hvplot/lib/python3.7/site-packages/pandas/io/excel.py\u001b[0m in \u001b[0;36m__init__\u001b[0;34m(self, filepath_or_buffer)\u001b[0m\n\u001b[1;32m    391\u001b[0m             \u001b[0;32mimport\u001b[0m \u001b[0mxlrd\u001b[0m\u001b[0;34m\u001b[0m\u001b[0;34m\u001b[0m\u001b[0m\n\u001b[1;32m    392\u001b[0m         \u001b[0;32mexcept\u001b[0m \u001b[0mImportError\u001b[0m\u001b[0;34m:\u001b[0m\u001b[0;34m\u001b[0m\u001b[0;34m\u001b[0m\u001b[0m\n\u001b[0;32m--> 393\u001b[0;31m             \u001b[0;32mraise\u001b[0m \u001b[0mImportError\u001b[0m\u001b[0;34m(\u001b[0m\u001b[0merr_msg\u001b[0m\u001b[0;34m)\u001b[0m\u001b[0;34m\u001b[0m\u001b[0;34m\u001b[0m\u001b[0m\n\u001b[0m\u001b[1;32m    394\u001b[0m         \u001b[0;32melse\u001b[0m\u001b[0;34m:\u001b[0m\u001b[0;34m\u001b[0m\u001b[0;34m\u001b[0m\u001b[0m\n\u001b[1;32m    395\u001b[0m             \u001b[0;32mif\u001b[0m \u001b[0mxlrd\u001b[0m\u001b[0;34m.\u001b[0m\u001b[0m__VERSION__\u001b[0m \u001b[0;34m<\u001b[0m \u001b[0mLooseVersion\u001b[0m\u001b[0;34m(\u001b[0m\u001b[0;34m\"1.0.0\"\u001b[0m\u001b[0;34m)\u001b[0m\u001b[0;34m:\u001b[0m\u001b[0;34m\u001b[0m\u001b[0;34m\u001b[0m\u001b[0m\n",
      "\u001b[0;31mImportError\u001b[0m: Install xlrd >= 1.0.0 for Excel support"
     ]
    }
   ],
   "source": [
    "df = pd.read_excel( 'NVDB mapping av datatyper til ITS direktivet-V3.xlsx')\n",
    "df.columns"
   ]
  },
  {
   "cell_type": "markdown",
   "metadata": {},
   "source": [
    "## husk å justere antall kolonner, kolonnenavn "
   ]
  },
  {
   "cell_type": "code",
   "execution_count": 14,
   "metadata": {},
   "outputs": [],
   "source": [
    "excelnavn = df.columns[0]\n",
    "mobil = df.columns[1]\n",
    "vegregulering = df.columns[2]"
   ]
  },
  {
   "cell_type": "code",
   "execution_count": 43,
   "metadata": {},
   "outputs": [],
   "source": [
    "# Funksjonsdefinisjon\n",
    "\n",
    "def prettyprint( df, df_name_column, filename, dakat): \n",
    "    \"\"\"\n",
    "    Matcher regneark-navn i kolonne mot datakatalog-definisjon og skriver ut en \n",
    "    pen markdown-tabell\n",
    "    \"\"\"\n",
    "    with open( filename, 'w', encoding='utf-8') as f:\n",
    "        f.write( '| Feature type |  Description | Selected properties |Description  |\\n')\n",
    "        f.write( '|---|---|---|---|\\n')\n",
    "        for index, row in df.iterrows(): \n",
    "            print( row[df_name_column])\n",
    "            if row[df_name_column] in dakat:\n",
    "                mindef = dakat[row[df_name_column]]\n",
    "                f.write( '| [' + str( mindef['id']  ) + ' ' + mindef['navn'] + \n",
    "                    '](https://datakatalogen.vegdata.no/' + str(mindef['id']) + ') | | |  |\\n' )\n",
    "                for eg in mindef['egenskapstyper']:\n",
    "                    f.write( '| | | ' + str(eg['id']) + ' ' + eg['navn'] + ' | |\\n ')\n",
    "                \n",
    "            else: \n",
    "                f.write( '| | | | |\\n')\n",
    "                f.write( '|**' + row[df_name_column] + '**| **FANT IKKE I DATAKATALOGEN** | | |\\n' )\n",
    "                f.write( '| | | | |\\n')\n",
    "                warnings.warn( 'Fant ikke i datakatalogen' +  row[df_name_column] )\n",
    "          \n",
    "        \n",
    "def simpleprint( df, df_name_column, filename, dakat): \n",
    "    \"\"\"\n",
    "    Som prettyprint, men uten egenskapnavn \n",
    "    \"\"\"\n",
    "    with open( filename, 'w', encoding='utf-8') as f:\n",
    "        f.write( '| Feature type |  Description | \\n')\n",
    "        f.write( '|---|---|\\n')\n",
    "        for index, row in df.iterrows(): \n",
    "            print( row[df_name_column])\n",
    "            if row[df_name_column] in dakat:\n",
    "                mindef = dakat[row[df_name_column]]\n",
    "                f.write( '| [' + str( mindef['id']  ) + ' ' + mindef['navn'] + \n",
    "                    '](https://datakatalogen.vegdata.no/' + str(mindef['id']) + ') | |\\n' )\n",
    "\n",
    "            else: \n",
    "                f.write( '| | |\\n')\n",
    "                f.write( '|**' + row[df_name_column] + '**| **FANT IKKE I DATAKATALOGEN** |\\n' )\n",
    "                f.write( '| | |\\n')\n"
   ]
  },
  {
   "cell_type": "code",
   "execution_count": 46,
   "metadata": {},
   "outputs": [
    {
     "name": "stdout",
     "output_type": "stream",
     "text": [
      "Døgnhvileplass\n",
      "Feltstrekning (?)\n",
      "Ferjeleie\n",
      "Ferjesamband\n",
      "Ferjestrekning\n",
      "Forbikjøringsstrekning\n",
      "Forkjørsveg\n",
      "Fortau\n",
      "Gangadkomst\n",
      "Gangfelt\n",
      "Gate\n",
      "Kollektivknutepunkt\n",
      "Kontroll-/veieplass\n",
      "Omkjøringsrute\n",
      "Parkeringsområde\n",
      "Rasteplass\n",
      "Sykkelparkering\n",
      "Sykkeltilbud, riksvegrute\n",
      "Toalettanlegg\n",
      "Turistveg\n"
     ]
    }
   ],
   "source": [
    "prettyprint( df[ df[mobil] == 'x' ], excelnavn, 'los1.txt', dakat2)"
   ]
  },
  {
   "cell_type": "code",
   "execution_count": 45,
   "metadata": {},
   "outputs": [
    {
     "name": "stdout",
     "output_type": "stream",
     "text": [
      "Døgnhvileplass\n",
      "Feltstrekning (?)\n",
      "Ferjeleie\n",
      "Ferjesamband\n",
      "Ferjestrekning\n",
      "Forbikjøringsstrekning\n",
      "Forkjørsveg\n",
      "Fortau\n",
      "Gangadkomst\n",
      "Gangfelt\n",
      "Gate\n",
      "Kollektivknutepunkt\n",
      "Kontroll-/veieplass\n",
      "Omkjøringsrute\n",
      "Parkeringsområde\n",
      "Rasteplass\n",
      "Sykkelparkering\n",
      "Sykkeltilbud, riksvegrute\n",
      "Toalettanlegg\n",
      "Turistveg\n"
     ]
    }
   ],
   "source": [
    "simpleprint( df[ df[mobil] == 'x' ], excelnavn, 'los2.txt', dakat2 )"
   ]
  },
  {
   "cell_type": "code",
   "execution_count": 39,
   "metadata": {},
   "outputs": [
    {
     "name": "stdout",
     "output_type": "stream",
     "text": [
      "ATK-punkt\n",
      "Bomstasjon \n",
      "Bru\n",
      "Bruksklasse modulvogntog\n",
      "Bruksklasse normaltransport\n",
      "Bruksklasse spesialtransport\n",
      "Bruksklasse tømmertransport\n",
      "Døgnhvileplass\n",
      "Fartsgrense\n",
      "Fartsgrense variabel\n",
      "Fartstavler\n",
      "Faunapassasje\n",
      "Fortau\n",
      "Gangfelt\n",
      "Gate\n",
      "Gågate\n",
      "Høydebegrensning\n",
      "Jernbanekryssing\n",
      "Kolonnestrekning\n",
      "Kontroll-/veieplass\n",
      "Kurvatur, horisontalelement\n",
      "Kurvatur, stigning\n",
      "Kurvatur, vertikalelement\n",
      "Motorveg\n",
      "Omkjøringsrute\n",
      "Rasteplass\n",
      "Snuplass\n",
      "Streknings ATK\n",
      "Svingrestriksjoner\n",
      "Sykkelrute, hovednett by/tettsted\n",
      "Sykkelrute tur/fritid\n",
      "TEN-T veg\n",
      "Trafikkberedskapsklasse\n",
      "Trafikklomme\n",
      "Trafikkreguleringer\n",
      "Tunnel\n",
      "Tunnelløp\n",
      "Turistveg\n",
      "Undergang\n",
      "Variabelt skilt\n",
      "Vegbredde\n",
      "Vegbredde beregnet\n",
      "Vegkryss\n",
      "Vegoppmerking langsgående\n",
      "Vegoppmerking tverrgående\n",
      "Vegreferanse\n"
     ]
    }
   ],
   "source": [
    "prettyprint( df[ df[vegregulering] == 'x'  ], excelnavn, 'los3.txt', dakat2 )"
   ]
  }
 ],
 "metadata": {
  "hide_input": false,
  "kernelspec": {
   "display_name": "Python 3",
   "language": "python",
   "name": "python3"
  },
  "language_info": {
   "codemirror_mode": {
    "name": "ipython",
    "version": 3
   },
   "file_extension": ".py",
   "mimetype": "text/x-python",
   "name": "python",
   "nbconvert_exporter": "python",
   "pygments_lexer": "ipython3",
   "version": "3.7.3"
  }
 },
 "nbformat": 4,
 "nbformat_minor": 2
}
