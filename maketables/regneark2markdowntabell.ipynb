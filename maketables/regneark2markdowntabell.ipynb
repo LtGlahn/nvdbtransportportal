{
 "cells": [
  {
   "cell_type": "code",
   "execution_count": 1,
   "metadata": {},
   "outputs": [],
   "source": [
    "import requests\n",
    "import pandas as pd\n",
    "import json"
   ]
  },
  {
   "cell_type": "markdown",
   "metadata": {},
   "source": [
    "Henter datakatalog-definisjon"
   ]
  },
  {
   "cell_type": "code",
   "execution_count": 12,
   "metadata": {},
   "outputs": [],
   "source": [
    "r = requests.get( 'https://www.vegvesen.no/nvdb/api/v2/vegobjekttyper', headers={'Accept' : 'application/json'},\n",
    "                params={'inkluder' : 'egenskapstyper'})\n",
    "dakat = r.json()\n",
    "dakat2 = {}\n",
    "for dd in dakat: \n",
    "    dakat2[dd['navn']] = dd "
   ]
  },
  {
   "cell_type": "markdown",
   "metadata": {},
   "source": [
    "Leser regneark"
   ]
  },
  {
   "cell_type": "code",
   "execution_count": 4,
   "metadata": {},
   "outputs": [
    {
     "data": {
      "text/plain": [
       "Index(['NVDB datatyper ( relatert til ITS direktivet)', 'Mobilitetstilbud',\n",
       "       ' Veg og vegregulering'],\n",
       "      dtype='object')"
      ]
     },
     "execution_count": 4,
     "metadata": {},
     "output_type": "execute_result"
    }
   ],
   "source": [
    "df = pd.read_excel( 'NVDB mapping av datatyper til ITS direktivet-V2.xlsx')\n",
    "df.columns"
   ]
  },
  {
   "cell_type": "markdown",
   "metadata": {},
   "source": [
    "## husk å justere antall kolonner, kolonnenavn "
   ]
  },
  {
   "cell_type": "code",
   "execution_count": 14,
   "metadata": {},
   "outputs": [],
   "source": [
    "excelnavn = df.columns[0]\n",
    "mobil = df.columns[1]\n",
    "vegregulering = df.columns[2]"
   ]
  },
  {
   "cell_type": "code",
   "execution_count": 37,
   "metadata": {},
   "outputs": [],
   "source": [
    "# Funksjonsdefinisjon\n",
    "\n",
    "def prettyprint( df, df_name_column, filename, dakat): \n",
    "    \"\"\"\n",
    "    Matcher regneark-navn i kolonne mot datakatalog-definisjon og skriver ut en \n",
    "    pen markdown-tabell\n",
    "    \"\"\"\n",
    "    with open( filename, 'w', encoding='utf-8') as f:\n",
    "        f.write( '| Feature type |  Description | Selected properties |Description  |\\n')\n",
    "        f.write( '|---|---|---|---|\\n')\n",
    "        for index, row in df.iterrows(): \n",
    "            print( row[df_name_column])\n",
    "            if row[df_name_column] in dakat:\n",
    "                mindef = dakat[row[df_name_column]]\n",
    "                f.write( '| [' + str( mindef['id']  ) + ' ' + mindef['navn'] + \n",
    "                    '](https://datakatalogen.vegdata.no/' + str(mindef['id']) + ') | | |  |\\n' )\n",
    "                for eg in mindef['egenskapstyper']:\n",
    "                    f.write( '| | | ' + str(eg['id']) + ' ' + eg['navn'] + ' | |\\n ')\n",
    "                \n",
    "            else: \n",
    "                f.write( '| | | | |\\n')\n",
    "                f.write( '|**' + row[df_name_column] + '**| **FANT IKKE I DATAKATALOGEN** | | |\\n' )\n",
    "                f.write( '| | | | |\\n')\n",
    "                \n"
   ]
  },
  {
   "cell_type": "code",
   "execution_count": 38,
   "metadata": {},
   "outputs": [
    {
     "name": "stdout",
     "output_type": "stream",
     "text": [
      "Døgnhvileplass\n",
      "Feltstrekning (?)\n",
      "Ferjeleie\n",
      "Ferjesamband\n",
      "Ferjestrekning\n",
      "Forbikjøringsstrekning\n",
      "Forkjørsveg\n",
      "Fortau\n",
      "Gangadkomst\n",
      "Gangfelt\n",
      "Gate\n",
      "Kollektivknutepunkt\n",
      "Kontroll-/veieplass\n",
      "Omkjøringsrute\n",
      "Parkeringsområde\n",
      "Rasteplass\n",
      "Sykkelparkering\n",
      "Sykkeltilbud, riksvegrute\n",
      "Toalettanlegg\n",
      "Turistveg\n"
     ]
    }
   ],
   "source": [
    "prettyprint( df[ df[mobil] == 'x' ], excelnavn, 'los1.txt', dakat2)"
   ]
  },
  {
   "cell_type": "code",
   "execution_count": 36,
   "metadata": {},
   "outputs": [
    {
     "name": "stdout",
     "output_type": "stream",
     "text": [
      "ATK-punkt\n",
      "Bomstasjon \n",
      "Bru\n",
      "Bruksklasse modulvogntog\n",
      "Bruksklasse normaltransport\n",
      "Bruksklasse spesialtransport\n",
      "Bruksklasse tømmertransport\n",
      "Døgnhvileplass\n",
      "Fartsgrense\n",
      "Fartsgrense variabel\n",
      "Fartstavler\n",
      "Faunapassasje\n",
      "Fortau\n",
      "Gangfelt\n",
      "Gate\n",
      "Gågate\n",
      "Høydebegrensning\n",
      "Jernbanekryssing\n",
      "Kolonnestrekning\n",
      "Kontroll-/veieplass\n",
      "Kurvatur, horisontalelement\n",
      "Kurvatur, stigning\n",
      "Kurvatur, vertikalelement\n",
      "Motorveg\n",
      "Omkjøringsrute\n",
      "Rasteplass\n",
      "Snuplass\n",
      "Streknings ATK\n",
      "Svingrestriksjoner\n",
      "Sykkelrute, hovednett by/tettsted\n",
      "Sykkelrute tur/fritid\n",
      "TEN-T veg\n",
      "Trafikkberedskapsklasse\n",
      "Trafikklomme\n",
      "Trafikkreguleringer\n",
      "Tunnel\n",
      "Tunnelløp\n",
      "Turistveg\n",
      "Undergang\n",
      "Variabelt skilt\n",
      "Vegbredde\n",
      "Vegbredde beregnet\n",
      "Vegkryss\n",
      "Vegoppmerking langsgående\n",
      "Vegoppmerking tverrgående\n",
      "Vegreferanse\n"
     ]
    }
   ],
   "source": [
    "prettyprint( df[ df[vegregulering] == 'x'  ], excelnavn, 'los3.txt', dakat2 )"
   ]
  }
 ],
 "metadata": {
  "kernelspec": {
   "display_name": "Python 3",
   "language": "python",
   "name": "python3"
  },
  "language_info": {
   "codemirror_mode": {
    "name": "ipython",
    "version": 3
   },
   "file_extension": ".py",
   "mimetype": "text/x-python",
   "name": "python",
   "nbconvert_exporter": "python",
   "pygments_lexer": "ipython3",
   "version": "3.7.3"
  }
 },
 "nbformat": 4,
 "nbformat_minor": 2
}
